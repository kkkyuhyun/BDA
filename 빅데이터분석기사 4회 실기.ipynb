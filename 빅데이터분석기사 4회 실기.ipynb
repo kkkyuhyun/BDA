{
 "cells": [
  {
   "cell_type": "code",
   "execution_count": 3,
   "id": "1904136b",
   "metadata": {},
   "outputs": [
    {
     "data": {
      "text/plain": [
       "50"
      ]
     },
     "execution_count": 3,
     "metadata": {},
     "output_type": "execute_result"
    }
   ],
   "source": [
    "#빅데이터분석기사  4회\n",
    "#작업 1유형\n",
    "\n",
    "#1-1. age 칼럼의 3사분위 수 와 1사분위수의 차를 절대값으로 구하고 소수점으로 버려서 정수로 출력해라.\n",
    "import pandas as pd\n",
    "df= pd.read_csv(\"C://Users//sam99//Desktop//컴퓨터공부//빅데이터분석기사//실기//basic1.csv\")\n",
    "int(abs(df['age'].quantile(.25)-df['age'].quantile(.75))) "
   ]
  },
  {
   "cell_type": "code",
   "execution_count": 5,
   "id": "c061ca53",
   "metadata": {},
   "outputs": [
    {
     "name": "stdout",
     "output_type": "stream",
     "text": [
      "90\n"
     ]
    }
   ],
   "source": [
    "#1-2. love반응과 wows반응 / reaction 반응 비율이 0.4보다 크고 0.5보다 작으면서 type칼럼이 'video'인 데이터 개수\n",
    "df=pd.read_csv(\"C://Users//sam99//Desktop//컴퓨터공부//빅데이터분석기사//실기//fb.csv\")\n",
    "r = (df['loves']+df['wows'])/df['reactions']\n",
    "\n",
    "condition1 = r>0.4\n",
    "condition2 = r<0.5\n",
    "condition3 = df['type'] ==\"video\"\n",
    "\n",
    "print(len(df[condition1 & condition2 & condition3]))\n"
   ]
  },
  {
   "cell_type": "code",
   "execution_count": 6,
   "id": "624f1890",
   "metadata": {},
   "outputs": [
    {
     "name": "stdout",
     "output_type": "stream",
     "text": [
      "<class 'pandas.core.frame.DataFrame'>\n",
      "RangeIndex: 8807 entries, 0 to 8806\n",
      "Data columns (total 11 columns):\n",
      " #   Column        Non-Null Count  Dtype \n",
      "---  ------        --------------  ----- \n",
      " 0   show_id       8807 non-null   object\n",
      " 1   type          8807 non-null   object\n",
      " 2   title         8807 non-null   object\n",
      " 3   director      6173 non-null   object\n",
      " 4   cast          7982 non-null   object\n",
      " 5   country       7976 non-null   object\n",
      " 6   date_added    8797 non-null   object\n",
      " 7   release_year  8807 non-null   int64 \n",
      " 8   rating        8803 non-null   object\n",
      " 9   duration      8804 non-null   object\n",
      " 10  listed_in     8807 non-null   object\n",
      "dtypes: int64(1), object(10)\n",
      "memory usage: 757.0+ KB\n",
      "0\n"
     ]
    }
   ],
   "source": [
    "#1-3. data-added 가 2018년 1월이면서 country가 United Kingdom 단독 제작인 데이터 개수\n",
    "\n",
    "import pandas as pd\n",
    "df = pd.read_csv(\"C://Users//sam99//Desktop//컴퓨터공부//빅데이터분석기사//실기//nf.csv\")\n",
    "df.info()\n",
    "df['date_added'] = pd.to_datetime(df['date_added'])#데이트타임변경\n",
    "condition1 = df['date_added'].dt.year ==2018 \n",
    "condition2 = df['date_added'].dt.month == 1\n",
    "condition3 = df['country'] == 'UnitedKingdom'\n",
    "print(len(df[condition1 & condition2&condition3]))"
   ]
  },
  {
   "cell_type": "code",
   "execution_count": 23,
   "id": "bab9df3d",
   "metadata": {},
   "outputs": [
    {
     "name": "stdout",
     "output_type": "stream",
     "text": [
      "<class 'pandas.core.frame.DataFrame'>\n",
      "RangeIndex: 6665 entries, 0 to 6664\n",
      "Data columns (total 11 columns):\n",
      " #   Column           Non-Null Count  Dtype  \n",
      "---  ------           --------------  -----  \n",
      " 0   ID               6665 non-null   int64  \n",
      " 1   Gender           6665 non-null   object \n",
      " 2   Ever_Married     6665 non-null   object \n",
      " 3   Age              6665 non-null   int64  \n",
      " 4   Graduated        6665 non-null   object \n",
      " 5   Profession       6665 non-null   object \n",
      " 6   Work_Experience  6665 non-null   float64\n",
      " 7   Spending_Score   6665 non-null   object \n",
      " 8   Family_Size      6665 non-null   float64\n",
      " 9   Var_1            6665 non-null   object \n",
      " 10  Segmentation     6665 non-null   int64  \n",
      "dtypes: float64(2), int64(3), object(6)\n",
      "memory usage: 572.9+ KB\n"
     ]
    }
   ],
   "source": [
    "#작업2유형\n",
    "\n",
    "import pandas as pd\n",
    "train =pd.read_csv(\"C://Users//sam99//Desktop//컴퓨터공부//빅데이터분석기사//실기//train.csv\")\n",
    "test=pd.read_csv(\"C://Users//sam99//Desktop//컴퓨터공부//빅데이터분석기사//실기//test.csv\")\n",
    "\n",
    "#데이터 크기 확인\n",
    "train.shape, test.shape\n",
    "#train 샘플 확인\n",
    "train.head()\n",
    "#test 샘플 확인\n",
    "test.head()\n",
    "#target확인\n",
    "train['Segmentation'].value_counts()\n",
    "#결측치확인(train)\n",
    "train.isnull().sum()\n",
    "#결측치확인(test)\n",
    "train.isnull().sum()\n",
    "#type확인\n",
    "train.info()\n",
    "\n",
    "#전처리 target(y, label) 값 복사\n",
    "target = train.pop('Segmentation') #Segmentation은 타겟데이터 target변수에 옮겨담은 다음에 pop을 해서 \n",
    "target\n",
    "#test데이터 ID 복사\n",
    "test_ID = test.pop('ID') #최종적으로 train데이터에 ID는 지울 것이지만, test데이터에 ID가 필요한 이유 ID별로 Segmentation을 1,2,3.. 으로 제출해야 해서 어딘가에 남겨두어야 한다.\n",
    "\n",
    "#수치형 칼럼(train) - ID, Age, Work_Experience, Family_Size, Segmentation\n",
    "num_cols=['Age','Work_Experience','Family_Size']\n",
    "train=train[num_cols]\n",
    "train.head(2)\n",
    "#수치형 칼럼(test) \n",
    "test=test[num_cols]\n",
    "test.head(2)\n",
    "\n",
    "#모델 학습 및 예측\n",
    "from sklearn.ensemble import RandomForestClassifier \n",
    "rf = RandomForestClassifier(random_state=0)\n",
    "rf.fit(train,target)\n",
    "pred=rf.predict(test)\n",
    "pred\n",
    "#예측 결과 -> 데이터프레임\n",
    "\n",
    "#pd.DataFrame({'cust_id':X_test.cust_id, 'gender':pred}).to_csv('',)\n",
    "submit = pd.DataFrame({ #실수주의 pd.DataFrame\n",
    "    'ID':test_ID,\n",
    "    'Segmentation': pred\n",
    "})\n",
    "submit\n",
    "\n",
    "submit.to_csv(\"submission.csv\",index=False)\n",
    "#Score: 0.30477"
   ]
  },
  {
   "cell_type": "code",
   "execution_count": 35,
   "id": "8004ff9a",
   "metadata": {},
   "outputs": [
    {
     "name": "stdout",
     "output_type": "stream",
     "text": [
      "<class 'pandas.core.frame.DataFrame'>\n",
      "RangeIndex: 6665 entries, 0 to 6664\n",
      "Data columns (total 11 columns):\n",
      " #   Column           Non-Null Count  Dtype  \n",
      "---  ------           --------------  -----  \n",
      " 0   ID               6665 non-null   int64  \n",
      " 1   Gender           6665 non-null   object \n",
      " 2   Ever_Married     6665 non-null   object \n",
      " 3   Age              6665 non-null   int64  \n",
      " 4   Graduated        6665 non-null   object \n",
      " 5   Profession       6665 non-null   object \n",
      " 6   Work_Experience  6665 non-null   float64\n",
      " 7   Spending_Score   6665 non-null   object \n",
      " 8   Family_Size      6665 non-null   float64\n",
      " 9   Var_1            6665 non-null   object \n",
      " 10  Segmentation     6665 non-null   int64  \n",
      "dtypes: float64(2), int64(3), object(6)\n",
      "memory usage: 572.9+ KB\n"
     ]
    }
   ],
   "source": [
    "#범주형(카테고리) 데이터 활용하기\n",
    "import pandas as pd\n",
    "\n",
    "train =pd.read_csv(\"C://Users//sam99//Desktop//컴퓨터공부//빅데이터분석기사//실기//train.csv\")\n",
    "test=pd.read_csv(\"C://Users//sam99//Desktop//컴퓨터공부//빅데이터분석기사//실기//test.csv\")\n",
    "\n",
    "train.head()\n",
    "train.info()\n",
    "train.describe(include=\"O\")\n",
    "\n",
    "#원 핫 인코딩\n",
    "train = pd.get_dummies(train)\n",
    "test = pd.get_dummies(test)\n",
    "\n",
    "train.head(1)\n",
    "#target(y,label)값 복사\n",
    "target = train.pop('Segmentation')\n",
    "target \n",
    "train = train.drop(\"ID\", axis=1)\n",
    "train.head(1)\n",
    "#test데이터 ID 복사\n",
    "test_ID = test.pop('ID')\n",
    "test\n",
    "#모델 선택 및 학습\n",
    "from sklearn.ensemble import RandomForestClassifier\n",
    "rf = RandomForestClassifier(random_state=0)\n",
    "rf.fit(train,target)\n",
    "pred = rf.predict(test)\n",
    "pred\n",
    "\n",
    "submit = pd.DataFrame({\n",
    "    'ID':test_ID,\n",
    "    'Segmentation':pred\n",
    "})\n",
    "submit\n",
    "submit.to_csv('submission.csv',index=False)"
   ]
  },
  {
   "cell_type": "code",
   "execution_count": 44,
   "id": "f1b1cbf3",
   "metadata": {},
   "outputs": [
    {
     "name": "stdout",
     "output_type": "stream",
     "text": [
      "[0.53130191 0.51695963 0.52121909 0.54069647 0.51119827]\n",
      "0.524275072755451\n"
     ]
    }
   ],
   "source": [
    "import pandas as pd\n",
    "\n",
    "train =pd.read_csv(\"C://Users//sam99//Desktop//컴퓨터공부//빅데이터분석기사//실기//train.csv\")\n",
    "test=pd.read_csv(\"C://Users//sam99//Desktop//컴퓨터공부//빅데이터분석기사//실기//test.csv\")\n",
    "\n",
    "#범주형 변수 레이블 인코딩 사이킷런 제공하는 것 대신에 피쳐 하나씩 작업\n",
    "train['Gender'] = train['Gender'].astype('category').cat.codes\n",
    "train['Ever_Married'] = train['Ever_Married'].astype('category').cat.codes\n",
    "train['Graduated'] = train['Graduated'].astype('category').cat.codes\n",
    "train['Profession'] = train['Profession'].astype('category').cat.codes\n",
    "train['Spending_Score'] = train['Spending_Score'].astype('category').cat.codes\n",
    "train['Var_1'] = train['Var_1'].astype('category').cat.codes\n",
    "train\n",
    "#\n",
    "test['Gender'] = test['Gender'].astype('category').cat.codes\n",
    "test['Ever_Married'] = test['Ever_Married'].astype('category').cat.codes\n",
    "test['Graduated'] = test['Graduated'].astype('category').cat.codes\n",
    "test['Profession'] = test['Profession'].astype('category').cat.codes\n",
    "test['Spending_Score'] = test['Spending_Score'].astype('category').cat.codes\n",
    "test['Var_1'] = test['Var_1'].astype('category').cat.codes\n",
    "train\n",
    "\n",
    "#ID, Target처리\n",
    "target = train.pop('Segmentation')\n",
    "train = train.drop(\"ID\", axis=1)\n",
    "test_ID = test.pop('ID')\n",
    "\n",
    "#모델 선택과 하이퍼파라미터 튜닝 max_depth, n_estimator\n",
    "from sklearn.ensemble import RandomForestClassifier\n",
    "rf = RandomForestClassifier(random_state=0, max_depth=7, n_estimators=500)\n",
    "\n",
    "#교차검증: 가로: train data 5번 실행 제일 마지막 데이터(1/5)를 검증데이터(Validation), 4/5를 학습용데이터\n",
    "from sklearn.model_selection import cross_val_score\n",
    "scores= cross_val_score(rf,train,target, scoring='f1_macro',cv=5)\n",
    "print(scores)\n",
    "print(scores.mean()) #0.4849572 \n",
    "#파라미터튜닝할 때 랜덤포레스트 - max_depth 분류 5~7로 하면 0.5132269(5일때), 0.5232864(7일때) , n_estimators = 500 -> 여기까지가 교차 검증\n",
    "\n",
    "#이제부터 학습하고 예측할 것이다.\n",
    "rf.fit(train, target)\n",
    "pred=rf.predict(test)\n",
    "pred\n",
    "#예측 결과를 가지고 데이터 프레임을 생성하여 제출\n",
    "submit = pd.DataFrame({\n",
    "    'ID': test_ID,\n",
    "    'Segmentation': pred\n",
    "})\n",
    "submit.to_csv(\"submission.csv\", index=False)\n",
    "\n"
   ]
  }
 ],
 "metadata": {
  "kernelspec": {
   "display_name": "Python 3",
   "language": "python",
   "name": "python3"
  },
  "language_info": {
   "codemirror_mode": {
    "name": "ipython",
    "version": 3
   },
   "file_extension": ".py",
   "mimetype": "text/x-python",
   "name": "python",
   "nbconvert_exporter": "python",
   "pygments_lexer": "ipython3",
   "version": "3.12.5"
  }
 },
 "nbformat": 4,
 "nbformat_minor": 5
}
