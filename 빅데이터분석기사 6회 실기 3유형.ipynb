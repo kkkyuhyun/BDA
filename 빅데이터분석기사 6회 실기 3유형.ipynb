{
 "cells": [
  {
   "cell_type": "code",
   "execution_count": null,
   "id": "5f27add2",
   "metadata": {},
   "outputs": [
    {
     "data": {
      "text/plain": [
       "((53940, 10), (53940, 10))"
      ]
     },
     "execution_count": 15,
     "metadata": {},
     "output_type": "execute_result"
    }
   ],
   "source": [
    "#diamonds 데이터셋을 활용한다. \n",
    "# 결측치를 포함하는 carat, depth, table항목을 이용하여 \n",
    "# price를 예측하는 다중선형회귀모형을 구축하고 다음 수행결과를 출력한다\n",
    "#데이터셋 준비비\n",
    "import pandas as pd\n",
    "import seaborn as sns\n",
    "\n",
    "df=pd.read_csv(\"C://Users//sam99//Desktop//컴퓨터공부//빅데이터분석기사//실기//diamonds.csv\")\n",
    "df\n",
    "df.head(1)\n",
    "\n",
    "df = df.drop('Unnamed: 0', axis=1)\n",
    "df.head(1)\n",
    "\n",
    "diamonds = sns.load_dataset(\"diamonds\")\n",
    "#결측치 제거\n",
    "df = diamonds.dropna()\n",
    "df.head(2) \n",
    "df.shape, diamonds.shape"
   ]
  },
  {
   "cell_type": "code",
   "execution_count": 26,
   "id": "8d2d624d",
   "metadata": {},
   "outputs": [
    {
     "name": "stdout",
     "output_type": "stream",
     "text": [
      "                            OLS Regression Results                            \n",
      "==============================================================================\n",
      "Dep. Variable:                  price   R-squared:                       0.854\n",
      "Model:                            OLS   Adj. R-squared:                  0.854\n",
      "Method:                 Least Squares   F-statistic:                 1.049e+05\n",
      "Date:                Mon, 05 May 2025   Prob (F-statistic):               0.00\n",
      "Time:                        11:57:54   Log-Likelihood:            -4.7194e+05\n",
      "No. Observations:               53940   AIC:                         9.439e+05\n",
      "Df Residuals:                   53936   BIC:                         9.439e+05\n",
      "Df Model:                           3                                         \n",
      "Covariance Type:            nonrobust                                         \n",
      "==============================================================================\n",
      "                 coef    std err          t      P>|t|      [0.025      0.975]\n",
      "------------------------------------------------------------------------------\n",
      "Intercept     1.3e+04    390.918     33.264      0.000    1.22e+04    1.38e+04\n",
      "carat       7858.7705     14.151    555.356      0.000    7831.035    7886.506\n",
      "depth       -151.2363      4.820    -31.378      0.000    -160.683    -141.789\n",
      "table       -104.4728      3.141    -33.259      0.000    -110.630     -98.316\n",
      "==============================================================================\n",
      "Omnibus:                    14107.737   Durbin-Watson:                   1.015\n",
      "Prob(Omnibus):                  0.000   Jarque-Bera (JB):           154392.067\n",
      "Skew:                           0.945   Prob(JB):                         0.00\n",
      "Kurtosis:                      11.070   Cond. No.                     5.02e+03\n",
      "==============================================================================\n",
      "\n",
      "Notes:\n",
      "[1] Standard Errors assume that the covariance matrix of the errors is correctly specified.\n",
      "[2] The condition number is large, 5.02e+03. This might indicate that there are\n",
      "strong multicollinearity or other numerical problems.\n",
      "7858.771\n"
     ]
    }
   ],
   "source": [
    "#문제1. carat 항목에 대한 회귀계수를 구하세요. 단 출력문은 print()을 이용하고 소수점 이하 넷째자리에서 반올림하여 소수점 이하 셋째 자리까지 출력하시오.\n",
    "\n",
    "from statsmodels.formula.api import ols \n",
    "\n",
    "X = df.loc[:,['carat','depth','table']]\n",
    "y = df['price']\n",
    "\n",
    "formula = \"price ~ carat +depth +table\"\n",
    "model = ols(formula, data =df).fit()\n",
    "print(model.summary())\n",
    "\n",
    "#Carat의 회귀 계수를 구하시오.\n",
    "carat_coef = model.params['carat']\n",
    "\n",
    "#소수점 셋째자리까지 출력하시오.\n",
    "print(round(carat_coef,3))\n"
   ]
  },
  {
   "cell_type": "code",
   "execution_count": 29,
   "id": "2fb44a9f",
   "metadata": {},
   "outputs": [
    {
     "name": "stdout",
     "output_type": "stream",
     "text": [
      "table 항목의 t 통계량: -33.259\n"
     ]
    }
   ],
   "source": [
    "#문제2. table 항목에 대한 t-통계량을 소수점 이하 셋째자리까지 출력하시오.\n",
    "\n",
    "from statsmodels.formula.api import ols\n",
    "import pandas as pd\n",
    "\n",
    "# 회귀 모델 적합\n",
    "formula = \"price ~ carat + depth + table\"\n",
    "model = ols(formula, data=df).fit()\n",
    "\n",
    "# table 항목의 t 통계량 출력 (소수점 이하 셋째자리까지 반올림)\n",
    "t_table = round(model.tvalues['table'], 3)\n",
    "print(\"table 항목의 t 통계량:\", t_table)\n",
    "\n"
   ]
  },
  {
   "cell_type": "code",
   "execution_count": 43,
   "id": "2563688c",
   "metadata": {},
   "outputs": [
    {
     "name": "stdout",
     "output_type": "stream",
     "text": [
      "예측값: 1510.4156303344544\n",
      "carat항목의 95% 신뢰구간: (7831.034681449392, 7886.506338422804)\n"
     ]
    }
   ],
   "source": [
    "#문제3. 다음 예측변수 값에 대한 price값을 예측하고 carat항목의 계수값에 대한 95%의 신뢰구간을 출력하시오.\n",
    "# carat 0.35, depth 57.5, table 53.1\n",
    "\n",
    "import pandas as pd\n",
    "import numpy as np\n",
    "\n",
    "sample_df = pd.DataFrame(\n",
    "    [[0.35, 57.5, 53.1]], columns = ['carat', 'depth', 'table']\n",
    ")\n",
    "print('예측값:', model.predict(sample_df).values[0])\n",
    "\n",
    "confidence_df_carat = model.conf_int().loc['carat']\n",
    "print(\"carat항목의 95% 신뢰구간:\", tuple(confidence_df_carat))\n",
    "\n"
   ]
  }
 ],
 "metadata": {
  "kernelspec": {
   "display_name": "Python 3",
   "language": "python",
   "name": "python3"
  },
  "language_info": {
   "codemirror_mode": {
    "name": "ipython",
    "version": 3
   },
   "file_extension": ".py",
   "mimetype": "text/x-python",
   "name": "python",
   "nbconvert_exporter": "python",
   "pygments_lexer": "ipython3",
   "version": "3.12.5"
  }
 },
 "nbformat": 4,
 "nbformat_minor": 5
}
