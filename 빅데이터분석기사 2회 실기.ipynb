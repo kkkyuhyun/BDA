{
 "cells": [
  {
   "cell_type": "code",
   "execution_count": 11,
   "id": "7985a275",
   "metadata": {},
   "outputs": [
    {
     "name": "stdout",
     "output_type": "stream",
     "text": [
      "<class 'pandas.core.frame.DataFrame'>\n",
      "RangeIndex: 100 entries, 0 to 99\n",
      "Data columns (total 5 columns):\n",
      " #   Column  Non-Null Count  Dtype  \n",
      "---  ------  --------------  -----  \n",
      " 0   CRIM    100 non-null    float64\n",
      " 1   ZN      90 non-null     float64\n",
      " 2   INDUS   100 non-null    float64\n",
      " 3   NOX     100 non-null    float64\n",
      " 4   RM      100 non-null    float64\n",
      "dtypes: float64(5)\n",
      "memory usage: 4.0 KB\n"
     ]
    },
    {
     "data": {
      "text/plain": [
       "0.5657521239175892"
      ]
     },
     "execution_count": 11,
     "metadata": {},
     "output_type": "execute_result"
    }
   ],
   "source": [
    "#문제1. 주어진 Dataset의 NOX의 값이 가장 큰 10개의 지역을 구한다\n",
    "#10개의 지역의 NOX의 값을 그중 가장 작은 값으로 대체한다\n",
    "#이후 'RM'칼럼이 값이 7이상인 지역에서 대체된 NOX 값들의 평균값을 구한다\n",
    "\n",
    "import pandas as pd\n",
    "\n",
    "#1. 데이터 불러오기\n",
    "df = pd.read_csv(\"C://Users//sam99//Desktop//컴퓨터공부//빅데이터분석기사//실기//data_2_1.csv\")\n",
    "df\n",
    "\n",
    "#2. 데이터 살펴보기\n",
    "df.info()\n",
    "\n",
    "#3. 전체행과 열을 확인한다.\n",
    "df.shape\n",
    "\n",
    "#4. NOX 칼럼 기준으로 데이터 내림차순으로 정렬한다\n",
    "df= df.sort_values('NOX',ascending=False)\n",
    "df\n",
    "\n",
    "#5. NOX 칼럼으로 정렬해놓은 결과로 위의 10개 행만 보고 싶다면 \n",
    "df.head(10)\n",
    "\n",
    "#6. NOX 칼럼에서 상위 10개의 데이터만 선택\n",
    "df.iloc[0:10,3] #행번호 0번~9번, 세번째 칼럼이 NOX (0,1,2,3 순)\n",
    "\n",
    "#7. NOX 값이 가장 큰 10개의 값 중 가장 작은 값을 추출\n",
    "min_nox = df.iloc[:10,3].min()\n",
    "min_nox \n",
    "\n",
    "#8. NOX 상위 10개의 데이터를 최소값으로 대체한다.\n",
    "df.iloc[0:10,3] = min_nox\n",
    "df.head(12)\n",
    "\n",
    "#9. 대체 후 RM칼럼 값이 7이상인 NOX값들의 평균값을 구하기\n",
    "result = df.loc[df['RM']>=7, 'NOX'].mean()\n",
    "result"
   ]
  },
  {
   "cell_type": "code",
   "execution_count": 20,
   "id": "958654b8",
   "metadata": {},
   "outputs": [
    {
     "name": "stdout",
     "output_type": "stream",
     "text": [
      "1.4\n"
     ]
    }
   ],
   "source": [
    "#문제2. 주어진 Dataset에서 ZN칼럼의 중앙값으로 해당 칼럼의 결측치를 대체하세요.\n",
    "#해당 칼럼 대체 전후의 표준편차 차이를 구하세요.\n",
    "\n",
    "import numpy as np\n",
    "import pandas as pd\n",
    "\n",
    "#1. 데이터 불러오기\n",
    "df = pd.read_csv(\"C://Users//sam99//Desktop//컴퓨터공부//빅데이터분석기사//실기//data_2_1.csv\")\n",
    "df\n",
    "\n",
    "#2. 결측치 확인하기\n",
    "df.isnull().sum()\n",
    "\n",
    "#3. 대체 전 표준편차 구하기\n",
    "import numpy as np\n",
    "before_standard_deviation = np.std(df['ZN'])\n",
    "before_standard_deviation\n",
    "\n",
    "#4. 중앙값을 확인하기\n",
    "median = df['ZN'].median()\n",
    "median\n",
    "\n",
    "#5. ZN의 결측치를 중앙값으로 대체하기\n",
    "df['ZN'] = df['ZN'].fillna(median)\n",
    "\n",
    "#6. 대체 후 표준편차를 계산하기\n",
    "after_standard_deviation = np.std(df['ZN'])\n",
    "after_standard_deviation\n",
    "\n",
    "#7. 표준편차 전후 차이 비교하기\n",
    "print(round(before_standard_deviation-after_standard_deviation,1))\n"
   ]
  },
  {
   "cell_type": "code",
   "execution_count": 26,
   "id": "8bfd78c2",
   "metadata": {},
   "outputs": [
    {
     "name": "stdout",
     "output_type": "stream",
     "text": [
      "0.23743219753316946 8.297658076672448\n"
     ]
    },
    {
     "data": {
      "text/plain": [
       "33.40340310112714"
      ]
     },
     "execution_count": 26,
     "metadata": {},
     "output_type": "execute_result"
    }
   ],
   "source": [
    "#문제3. 주어진 Dataset의 'RM' 칼럼의 평균으로부터 1.5*표준편차를 벗어나는 영역을 이상치라고 한다.\n",
    "# 이 이상치들의 합을 구하세요.\n",
    "\n",
    "import pandas as pd\n",
    "import numpy as np\n",
    "\n",
    "#1. 데이터 불러오기\n",
    "df = pd.read_csv(\"C://Users//sam99//Desktop//컴퓨터공부//빅데이터분석기사//실기//data_2_1.csv\")\n",
    "df\n",
    "\n",
    "#2. RM칼럼의 표준편차 *1.5값 구하기\n",
    "std = np.std(df['RM'])*1.5\n",
    "std\n",
    "\n",
    "#3. RM칼럼의 평균값을 구하기\n",
    "mean = df['RM'].mean()\n",
    "mean\n",
    "\n",
    "#4. 평균 - 표준편차, 평균 + 표준편차 구하기\n",
    "min_out = mean - std\n",
    "max_out = mean + std\n",
    "print(min_out, max_out)\n",
    "\n",
    "#5. min과 max 범위를 벗어나는 값을 선택하여 합계 구하기\n",
    "result = df.loc[(df['RM']>max_out) | (df['RM']< min_out), 'RM'].sum()\n",
    "result"
   ]
  }
 ],
 "metadata": {
  "kernelspec": {
   "display_name": "Python 3",
   "language": "python",
   "name": "python3"
  },
  "language_info": {
   "codemirror_mode": {
    "name": "ipython",
    "version": 3
   },
   "file_extension": ".py",
   "mimetype": "text/x-python",
   "name": "python",
   "nbconvert_exporter": "python",
   "pygments_lexer": "ipython3",
   "version": "3.12.5"
  }
 },
 "nbformat": 4,
 "nbformat_minor": 5
}
