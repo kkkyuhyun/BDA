{
 "cells": [
  {
   "cell_type": "code",
   "execution_count": null,
   "id": "6c1832cf",
   "metadata": {},
   "outputs": [
    {
     "name": "stdout",
     "output_type": "stream",
     "text": [
      "91.29779092\n",
      "91.29779092\n",
      "63.072327617391295\n"
     ]
    }
   ],
   "source": [
    "#작업1유형\n",
    "# 문제1. 데이터셋의 f5칼럼을 기준으로 상위 10개 데이터를 구하고\n",
    "#f5칼럼 10개중 최소값으로 데이터를 대체한 후 age 칼럼에서 80이상인 데이터의 f5칼럼 평균값 구하기 \n",
    "import pandas as pd\n",
    "\n",
    "df = pd.read_csv('C:\\\\Users\\\\sam99\\\\Desktop\\\\컴퓨터공부\\\\빅데이터분석기사\\\\basic1.csv')\n",
    "\n",
    "df.head()\n",
    "\n",
    "#실기 기출유형 작업형 1 빠르게 풀어보기  \n",
    "#f5를 기준으로 내림차순 정렬\n",
    "df = df.sort_values('f5', ascending=False)\n",
    "df.head(10)\n",
    "\n",
    "#최소값 찾기\n",
    "min = df['f5'][:10].min()\n",
    "#min = 91.297791\n",
    "print(min)\n",
    "\n",
    "#실기 기출유형 작업형 1 빠르게 풀어보기  \n",
    "#f5를 기준으로 내림차순 정렬\n",
    "df = df.sort_values('f5', ascending=False)\n",
    "df.head(10)\n",
    "\n",
    "#최소값 찾기\n",
    "min = df['f5'][:10].min()\n",
    "#min = 91.297791\n",
    "print(min)\n",
    "\n",
    "df[10:20]\n",
    "print(df[df['age']>=80]['f5'].mean())\n"
   ]
  },
  {
   "cell_type": "code",
   "execution_count": 16,
   "id": "af3f1880",
   "metadata": {},
   "outputs": [
    {
     "name": "stdout",
     "output_type": "stream",
     "text": [
      "3.2094305565060814\n"
     ]
    },
    {
     "name": "stderr",
     "output_type": "stream",
     "text": [
      "C:\\Users\\sam99\\AppData\\Local\\Temp\\ipykernel_117352\\1368748238.py:29: SettingWithCopyWarning: \n",
      "A value is trying to be set on a copy of a slice from a DataFrame.\n",
      "Try using .loc[row_indexer,col_indexer] = value instead\n",
      "\n",
      "See the caveats in the documentation: https://pandas.pydata.org/pandas-docs/stable/user_guide/indexing.html#returning-a-view-versus-a-copy\n",
      "  data70['f1']=data70['f1'].fillna(med)\n"
     ]
    }
   ],
   "source": [
    "#문제2. 데이터셋의 앞에서 순서대로 70% 데이터만을 활용해서\n",
    "#f1 칼럼 결측치를 중앙값으로 채우기 전후의 표준편차를 구하고 \n",
    "#두 표준편차 차이 계산하기\n",
    "\n",
    "import pandas as pd\n",
    "import numpy as np\n",
    "\n",
    "df = pd.read_csv('C:\\\\Users\\\\sam99\\\\Desktop\\\\컴퓨터공부\\\\빅데이터분석기사\\\\basic1.csv')\n",
    "df.shape\n",
    "\n",
    "#데이터 나구기 방법1. \n",
    "data70=df.iloc[:70] \n",
    "data30=df.iloc[70:]\n",
    "\n",
    "data70.tail()\n",
    "\n",
    "##결측치 확인\n",
    "data70.isnull().sum()\n",
    "\n",
    "##결측치 채우기 전 f1컬럼 표준편차\n",
    "std1 = np.std(data70['f1'])\n",
    "std1\n",
    "\n",
    "##중앙값 확인\n",
    "med=data70['f1'].median()\n",
    "med\n",
    "\n",
    "##중앙값으로 채우기\n",
    "data70['f1']=data70['f1'].fillna(med)\n",
    "\n",
    "#결측치 확인\n",
    "data70.isnull().sum()\n",
    "\n",
    "#결측치를 채운 후 표준편차 구하기\n",
    "std2=np.std(data70['f1'])\n",
    "std2\n",
    "print(std1-std2)"
   ]
  },
  {
   "cell_type": "code",
   "execution_count": 18,
   "id": "ff4b4fed",
   "metadata": {},
   "outputs": [
    {
     "name": "stdout",
     "output_type": "stream",
     "text": [
      "5.527756578730653 96.39824342126934\n",
      "473.5\n"
     ]
    }
   ],
   "source": [
    "#문제3. 데이터셋의 age 칼럼의 이상치를 더하시오. \n",
    "#단, 평균으로부터 표준편차*1.5를 벗어나는 영역을 이상치로 판단하세요.\n",
    "\n",
    "import numpy as np\n",
    "import pandas as pd\n",
    "\n",
    "df=pd.read_csv('C:\\\\Users\\\\sam99\\\\Desktop\\\\컴퓨터공부\\\\빅데이터분석기사\\\\basic1.csv')\n",
    "std=np.std(df['age'])*1.5\n",
    "mean=df['age'].mean()\n",
    "\n",
    "min_out=mean-std\n",
    "max_out=mean+std\n",
    "print(min_out,max_out)\n",
    "\n",
    "#이상치의 합\n",
    "print(df[(df['age']>max_out)|(df['age']<min_out)]['age'].sum())"
   ]
  }
 ],
 "metadata": {
  "kernelspec": {
   "display_name": "Python 3",
   "language": "python",
   "name": "python3"
  },
  "language_info": {
   "codemirror_mode": {
    "name": "ipython",
    "version": 3
   },
   "file_extension": ".py",
   "mimetype": "text/x-python",
   "name": "python",
   "nbconvert_exporter": "python",
   "pygments_lexer": "ipython3",
   "version": "3.12.5"
  }
 },
 "nbformat": 4,
 "nbformat_minor": 5
}
